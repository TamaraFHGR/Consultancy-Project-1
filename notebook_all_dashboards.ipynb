{
 "cells": [
  {
   "cell_type": "markdown",
   "id": "fa9fef43",
   "metadata": {},
   "source": [
    "# Dashboard Crash Kurs "
   ]
  },
  {
   "cell_type": "markdown",
   "id": "9931fd09",
   "metadata": {},
   "source": [
    "## Pakages "
   ]
  },
  {
   "cell_type": "code",
   "execution_count": 1,
   "id": "14aa0110",
   "metadata": {},
   "outputs": [
    {
     "name": "stdout",
     "output_type": "stream",
     "text": [
      "Requirement already satisfied: dash in c:\\users\\sha_r\\anaconda3\\lib\\site-packages (2.16.1)\n",
      "Requirement already satisfied: retrying in c:\\users\\sha_r\\anaconda3\\lib\\site-packages (from dash) (1.3.4)\n",
      "Requirement already satisfied: requests in c:\\users\\sha_r\\anaconda3\\lib\\site-packages (from dash) (2.26.0)\n",
      "Requirement already satisfied: typing-extensions>=4.1.1 in c:\\users\\sha_r\\anaconda3\\lib\\site-packages (from dash) (4.4.0)\n",
      "Requirement already satisfied: dash-html-components==2.0.0 in c:\\users\\sha_r\\anaconda3\\lib\\site-packages (from dash) (2.0.0)\n",
      "Requirement already satisfied: plotly>=5.0.0 in c:\\users\\sha_r\\anaconda3\\lib\\site-packages (from dash) (5.20.0)\n",
      "Requirement already satisfied: Flask<3.1,>=1.0.4 in c:\\users\\sha_r\\anaconda3\\lib\\site-packages (from dash) (1.1.2)\n",
      "Requirement already satisfied: setuptools in c:\\users\\sha_r\\anaconda3\\lib\\site-packages (from dash) (58.0.4)\n",
      "Requirement already satisfied: importlib-metadata in c:\\users\\sha_r\\anaconda3\\lib\\site-packages (from dash) (4.8.1)\n",
      "Requirement already satisfied: Werkzeug<3.1 in c:\\users\\sha_r\\anaconda3\\lib\\site-packages (from dash) (2.0.2)\n",
      "Requirement already satisfied: dash-table==5.0.0 in c:\\users\\sha_r\\anaconda3\\lib\\site-packages (from dash) (5.0.0)\n",
      "Requirement already satisfied: nest-asyncio in c:\\users\\sha_r\\anaconda3\\lib\\site-packages (from dash) (1.5.1)\n",
      "Requirement already satisfied: dash-core-components==2.0.0 in c:\\users\\sha_r\\anaconda3\\lib\\site-packages (from dash) (2.0.0)\n",
      "Requirement already satisfied: click>=5.1 in c:\\users\\sha_r\\anaconda3\\lib\\site-packages (from Flask<3.1,>=1.0.4->dash) (8.0.3)\n",
      "Requirement already satisfied: Jinja2>=2.10.1 in c:\\users\\sha_r\\anaconda3\\lib\\site-packages (from Flask<3.1,>=1.0.4->dash) (2.11.3)\n",
      "Requirement already satisfied: itsdangerous>=0.24 in c:\\users\\sha_r\\anaconda3\\lib\\site-packages (from Flask<3.1,>=1.0.4->dash) (2.0.1)\n",
      "Requirement already satisfied: colorama in c:\\users\\sha_r\\anaconda3\\lib\\site-packages (from click>=5.1->Flask<3.1,>=1.0.4->dash) (0.4.4)\n",
      "Requirement already satisfied: MarkupSafe>=0.23 in c:\\users\\sha_r\\anaconda3\\lib\\site-packages (from Jinja2>=2.10.1->Flask<3.1,>=1.0.4->dash) (1.1.1)\n",
      "Requirement already satisfied: tenacity>=6.2.0 in c:\\users\\sha_r\\anaconda3\\lib\\site-packages (from plotly>=5.0.0->dash) (8.2.3)\n",
      "Requirement already satisfied: packaging in c:\\users\\sha_r\\anaconda3\\lib\\site-packages (from plotly>=5.0.0->dash) (21.0)\n",
      "Requirement already satisfied: zipp>=0.5 in c:\\users\\sha_r\\anaconda3\\lib\\site-packages (from importlib-metadata->dash) (3.6.0)\n",
      "Requirement already satisfied: pyparsing>=2.0.2 in c:\\users\\sha_r\\anaconda3\\lib\\site-packages (from packaging->plotly>=5.0.0->dash) (3.0.4)\n",
      "Requirement already satisfied: idna<4,>=2.5 in c:\\users\\sha_r\\anaconda3\\lib\\site-packages (from requests->dash) (3.2)\n",
      "Requirement already satisfied: certifi>=2017.4.17 in c:\\users\\sha_r\\anaconda3\\lib\\site-packages (from requests->dash) (2021.10.8)\n",
      "Requirement already satisfied: urllib3<1.27,>=1.21.1 in c:\\users\\sha_r\\anaconda3\\lib\\site-packages (from requests->dash) (1.26.7)\n",
      "Requirement already satisfied: charset-normalizer~=2.0.0 in c:\\users\\sha_r\\anaconda3\\lib\\site-packages (from requests->dash) (2.0.4)\n",
      "Requirement already satisfied: six>=1.7.0 in c:\\users\\sha_r\\anaconda3\\lib\\site-packages (from retrying->dash) (1.16.0)\n",
      "Requirement already satisfied: plotly in c:\\users\\sha_r\\anaconda3\\lib\\site-packages (5.20.0)\n",
      "Requirement already satisfied: tenacity>=6.2.0 in c:\\users\\sha_r\\anaconda3\\lib\\site-packages (from plotly) (8.2.3)\n",
      "Requirement already satisfied: packaging in c:\\users\\sha_r\\anaconda3\\lib\\site-packages (from plotly) (21.0)\n",
      "Requirement already satisfied: pyparsing>=2.0.2 in c:\\users\\sha_r\\anaconda3\\lib\\site-packages (from packaging->plotly) (3.0.4)\n",
      "Requirement already satisfied: numpy in c:\\users\\sha_r\\anaconda3\\lib\\site-packages (1.20.3)\n",
      "Requirement already satisfied: pandas in c:\\users\\sha_r\\anaconda3\\lib\\site-packages (1.3.4)\n",
      "Requirement already satisfied: numpy>=1.17.3 in c:\\users\\sha_r\\anaconda3\\lib\\site-packages (from pandas) (1.20.3)\n",
      "Requirement already satisfied: pytz>=2017.3 in c:\\users\\sha_r\\anaconda3\\lib\\site-packages (from pandas) (2021.3)\n",
      "Requirement already satisfied: python-dateutil>=2.7.3 in c:\\users\\sha_r\\anaconda3\\lib\\site-packages (from pandas) (2.8.2)\n",
      "Requirement already satisfied: six>=1.5 in c:\\users\\sha_r\\anaconda3\\lib\\site-packages (from python-dateutil>=2.7.3->pandas) (1.16.0)\n",
      "Requirement already satisfied: dash-bootstrap-components in c:\\users\\sha_r\\anaconda3\\lib\\site-packages (1.5.0)\n",
      "Requirement already satisfied: dash>=2.0.0 in c:\\users\\sha_r\\anaconda3\\lib\\site-packages (from dash-bootstrap-components) (2.16.1)\n",
      "Requirement already satisfied: typing-extensions>=4.1.1 in c:\\users\\sha_r\\anaconda3\\lib\\site-packages (from dash>=2.0.0->dash-bootstrap-components) (4.4.0)\n",
      "Requirement already satisfied: dash-core-components==2.0.0 in c:\\users\\sha_r\\anaconda3\\lib\\site-packages (from dash>=2.0.0->dash-bootstrap-components) (2.0.0)\n",
      "Requirement already satisfied: setuptools in c:\\users\\sha_r\\anaconda3\\lib\\site-packages (from dash>=2.0.0->dash-bootstrap-components) (58.0.4)\n",
      "Requirement already satisfied: Flask<3.1,>=1.0.4 in c:\\users\\sha_r\\anaconda3\\lib\\site-packages (from dash>=2.0.0->dash-bootstrap-components) (1.1.2)\n",
      "Requirement already satisfied: dash-table==5.0.0 in c:\\users\\sha_r\\anaconda3\\lib\\site-packages (from dash>=2.0.0->dash-bootstrap-components) (5.0.0)\n",
      "Requirement already satisfied: requests in c:\\users\\sha_r\\anaconda3\\lib\\site-packages (from dash>=2.0.0->dash-bootstrap-components) (2.26.0)\n",
      "Requirement already satisfied: retrying in c:\\users\\sha_r\\anaconda3\\lib\\site-packages (from dash>=2.0.0->dash-bootstrap-components) (1.3.4)\n",
      "Requirement already satisfied: plotly>=5.0.0 in c:\\users\\sha_r\\anaconda3\\lib\\site-packages (from dash>=2.0.0->dash-bootstrap-components) (5.20.0)\n",
      "Requirement already satisfied: Werkzeug<3.1 in c:\\users\\sha_r\\anaconda3\\lib\\site-packages (from dash>=2.0.0->dash-bootstrap-components) (2.0.2)\n",
      "Requirement already satisfied: importlib-metadata in c:\\users\\sha_r\\anaconda3\\lib\\site-packages (from dash>=2.0.0->dash-bootstrap-components) (4.8.1)\n",
      "Requirement already satisfied: nest-asyncio in c:\\users\\sha_r\\anaconda3\\lib\\site-packages (from dash>=2.0.0->dash-bootstrap-components) (1.5.1)\n",
      "Requirement already satisfied: dash-html-components==2.0.0 in c:\\users\\sha_r\\anaconda3\\lib\\site-packages (from dash>=2.0.0->dash-bootstrap-components) (2.0.0)\n",
      "Requirement already satisfied: itsdangerous>=0.24 in c:\\users\\sha_r\\anaconda3\\lib\\site-packages (from Flask<3.1,>=1.0.4->dash>=2.0.0->dash-bootstrap-components) (2.0.1)\n",
      "Requirement already satisfied: click>=5.1 in c:\\users\\sha_r\\anaconda3\\lib\\site-packages (from Flask<3.1,>=1.0.4->dash>=2.0.0->dash-bootstrap-components) (8.0.3)\n",
      "Requirement already satisfied: Jinja2>=2.10.1 in c:\\users\\sha_r\\anaconda3\\lib\\site-packages (from Flask<3.1,>=1.0.4->dash>=2.0.0->dash-bootstrap-components) (2.11.3)\n",
      "Requirement already satisfied: colorama in c:\\users\\sha_r\\anaconda3\\lib\\site-packages (from click>=5.1->Flask<3.1,>=1.0.4->dash>=2.0.0->dash-bootstrap-components) (0.4.4)\n",
      "Requirement already satisfied: MarkupSafe>=0.23 in c:\\users\\sha_r\\anaconda3\\lib\\site-packages (from Jinja2>=2.10.1->Flask<3.1,>=1.0.4->dash>=2.0.0->dash-bootstrap-components) (1.1.1)\n",
      "Requirement already satisfied: tenacity>=6.2.0 in c:\\users\\sha_r\\anaconda3\\lib\\site-packages (from plotly>=5.0.0->dash>=2.0.0->dash-bootstrap-components) (8.2.3)\n",
      "Requirement already satisfied: packaging in c:\\users\\sha_r\\anaconda3\\lib\\site-packages (from plotly>=5.0.0->dash>=2.0.0->dash-bootstrap-components) (21.0)\n",
      "Requirement already satisfied: zipp>=0.5 in c:\\users\\sha_r\\anaconda3\\lib\\site-packages (from importlib-metadata->dash>=2.0.0->dash-bootstrap-components) (3.6.0)\n",
      "Requirement already satisfied: pyparsing>=2.0.2 in c:\\users\\sha_r\\anaconda3\\lib\\site-packages (from packaging->plotly>=5.0.0->dash>=2.0.0->dash-bootstrap-components) (3.0.4)\n",
      "Requirement already satisfied: certifi>=2017.4.17 in c:\\users\\sha_r\\anaconda3\\lib\\site-packages (from requests->dash>=2.0.0->dash-bootstrap-components) (2021.10.8)\n",
      "Requirement already satisfied: urllib3<1.27,>=1.21.1 in c:\\users\\sha_r\\anaconda3\\lib\\site-packages (from requests->dash>=2.0.0->dash-bootstrap-components) (1.26.7)\n",
      "Requirement already satisfied: idna<4,>=2.5 in c:\\users\\sha_r\\anaconda3\\lib\\site-packages (from requests->dash>=2.0.0->dash-bootstrap-components) (3.2)\n",
      "Requirement already satisfied: charset-normalizer~=2.0.0 in c:\\users\\sha_r\\anaconda3\\lib\\site-packages (from requests->dash>=2.0.0->dash-bootstrap-components) (2.0.4)\n",
      "Requirement already satisfied: six>=1.7.0 in c:\\users\\sha_r\\anaconda3\\lib\\site-packages (from retrying->dash>=2.0.0->dash-bootstrap-components) (1.16.0)\n"
     ]
    }
   ],
   "source": [
    "!pip install dash\n",
    "!pip install plotly\n",
    "!pip install numpy\n",
    "!pip install pandas\n",
    "!pip install dash-bootstrap-components"
   ]
  },
  {
   "cell_type": "code",
   "execution_count": 2,
   "id": "19601851",
   "metadata": {},
   "outputs": [],
   "source": [
    "from dash import Dash, dcc, html, Input, Output, callback\n",
    "import plotly.express as px\n",
    "import numpy as np\n",
    "import pandas as pd\n",
    "\n",
    "import math\n",
    "import dash_bootstrap_components as dbc\n",
    "\n",
    "import plotly.graph_objects as go\n",
    "from sklearn.datasets import make_blobs"
   ]
  },
  {
   "cell_type": "markdown",
   "id": "90f83ddb",
   "metadata": {},
   "source": [
    "## Dashboard 1 "
   ]
  },
  {
   "cell_type": "code",
   "execution_count": 3,
   "id": "fd4db143",
   "metadata": {},
   "outputs": [
    {
     "data": {
      "text/html": [
       "\n",
       "        <iframe\n",
       "            width=\"100%\"\n",
       "            height=\"650\"\n",
       "            src=\"http://127.0.0.1:8050/\"\n",
       "            frameborder=\"0\"\n",
       "            allowfullscreen\n",
       "            \n",
       "        ></iframe>\n",
       "        "
      ],
      "text/plain": [
       "<IPython.lib.display.IFrame at 0x2088f9bda60>"
      ]
     },
     "metadata": {},
     "output_type": "display_data"
    }
   ],
   "source": [
    "app = Dash (__name__)\n",
    "\n",
    "df = pd.DataFrame({'number': np.random.normal(loc=0,scale=10,size =1000)})\n",
    "\n",
    "app.layout = html.Div([html.H1(\"Dashboard 1\"),\n",
    "    dcc.Dropdown(options=['red','green','blue'], value='red', id='color', multi=False),\n",
    "    dcc.Graph(id=\"graph\")\n",
    "])\n",
    "\n",
    "@callback(Output(\"graph\", \"figure\"), Input(\"color\",\"value\"))\n",
    "\n",
    "def update_graph(dropdown_value_color):\n",
    "    fig = px.histogram(df, x=\"number\", color_discrete_sequence=[dropdown_value_color])\n",
    "    fig.update_layout()\n",
    "    return fig\n",
    "\n",
    "if __name__ == '__main__':\n",
    "    app.run_server(debug=False)"
   ]
  },
  {
   "cell_type": "markdown",
   "id": "cb2c730d",
   "metadata": {},
   "source": [
    "## Dashboard 2 "
   ]
  },
  {
   "cell_type": "code",
   "execution_count": 4,
   "id": "b0429a85",
   "metadata": {},
   "outputs": [
    {
     "data": {
      "text/html": [
       "\n",
       "        <iframe\n",
       "            width=\"100%\"\n",
       "            height=\"650\"\n",
       "            src=\"http://127.0.0.1:8000/\"\n",
       "            frameborder=\"0\"\n",
       "            allowfullscreen\n",
       "            \n",
       "        ></iframe>\n",
       "        "
      ],
      "text/plain": [
       "<IPython.lib.display.IFrame at 0x20896da2ac0>"
      ]
     },
     "metadata": {},
     "output_type": "display_data"
    }
   ],
   "source": [
    "app = Dash(__name__, external_stylesheets=[dbc.themes.BOOTSTRAP])\n",
    "\n",
    "# generate random normal distributed data for x and y\n",
    "# and store it in a pandas DataFrame\n",
    "\n",
    "df = pd.DataFrame({'y': np.random.normal(loc=0, scale=10, size=1000),\n",
    "                   'x': np.random.normal(loc=10, scale=2, size=1000)})\n",
    "\n",
    "app.layout = html.Div([html.H1(\"Dashboard 2\"),\n",
    "    dbc.Row([dbc.Col([dcc.Dropdown(options=['red', 'green', 'blue'], value='red', id='color', multi=False)], width=6),\n",
    "             dbc.Col([dcc.Slider(min=math.floor(df['y'].min()), max=math.ceil(df['y'].max()), id=\"min_value\")\n",
    "            ], width=6)\n",
    "    ]),\n",
    "    dbc.Row([dbc.Col([dcc.Graph(id=\"graph_1\")], width=6),\n",
    "             dbc.Col([dcc.Graph(id=\"graph_2\")], width=6)\n",
    "    ])], className=\"m-4\")\n",
    "\n",
    "@app.callback(Output(\"graph_1\", \"figure\"), Input(\"color\", \"value\"))\n",
    "\n",
    "def update_graph_1(dropdown_value_color):\n",
    "    fig = px.histogram(df, x=\"y\", color_discrete_sequence=[dropdown_value_color])\n",
    "    fig.update_layout()\n",
    "    return fig\n",
    "\n",
    "@app.callback(Output(\"graph_2\", \"figure\"), Input(\"min_value\", \"value\"))\n",
    "\n",
    "def update_graph_2(min_value):\n",
    "    dff = df[df['y']> min_value]\n",
    "    fig = px.scatter(dff, x='x', y='y')\n",
    "    fig.update_layout()\n",
    "    return fig\n",
    "\n",
    "if __name__ == '__main__':\n",
    "    app.run_server(debug=True, port=8000)"
   ]
  },
  {
   "cell_type": "markdown",
   "id": "96024779",
   "metadata": {},
   "source": [
    "## Dashboard 3"
   ]
  },
  {
   "cell_type": "code",
   "execution_count": 5,
   "id": "b0fdcacc",
   "metadata": {},
   "outputs": [
    {
     "data": {
      "text/html": [
       "\n",
       "        <iframe\n",
       "            width=\"100%\"\n",
       "            height=\"650\"\n",
       "            src=\"http://127.0.0.1:8000/\"\n",
       "            frameborder=\"0\"\n",
       "            allowfullscreen\n",
       "            \n",
       "        ></iframe>\n",
       "        "
      ],
      "text/plain": [
       "<IPython.lib.display.IFrame at 0x2089863a2b0>"
      ]
     },
     "metadata": {},
     "output_type": "display_data"
    }
   ],
   "source": [
    "# new: plotly template=\"plotly_white\", https://plotly.com/python/templates/\n",
    "\n",
    "app = Dash(__name__, external_stylesheets=[dbc.themes.BOOTSTRAP])\n",
    "\n",
    "df = pd.DataFrame({'y': np.random.normal(loc=0, scale=10, size=1000), 'x': np.random.normal(loc=10, scale=2, size=1000)})\n",
    "\n",
    "app.layout = html.Div([html.Div([html.H1(\"Dashboard 3\")], className=\"header\"), html.Div([dcc.Tabs(id=\"tabs\", children=[\n",
    "            dcc.Tab(label='Tab One', id=\"tab_1_graphs\", children=[html.Div([\n",
    "                dbc.Row([dbc.Col([dcc.Dropdown(options=['red','green','blue'], value='red', id='color', multi=False)], width=6),\n",
    "                         dbc.Col([dcc.Slider(min=math.floor(df['y'].min()),max=math.ceil(df['y'].max()),id=\"min_value\")], width=6)]),\n",
    "                dbc.Row([dbc.Col([dcc.Graph(id=\"graph_1\")],width=6),\n",
    "                         dbc.Col([dcc.Graph(id=\"graph_2\")],width=6)])], className=\"tab_content\"),]),\n",
    "            dcc.Tab(label='Tab Two', id=\"tab_2_graphs\",children=[html.Div([],className=\"tab_content\")]),])], className=\"content\")])\n",
    "\n",
    "@app.callback(Output(\"graph_1\", \"figure\"), Input(\"color\", \"value\"))\n",
    "\n",
    "def update_graph_1(dropdown_value_color):\n",
    "    fig = px.histogram(df, x=\"y\", color_discrete_sequence=[dropdown_value_color])\n",
    "    fig.update_layout(template=\"plotly_white\")\n",
    "    return fig\n",
    "\n",
    "@app.callback(Output(\"graph_2\", \"figure\"),Input(\"min_value\", \"value\"))\n",
    "\n",
    "def update_graph_2(min_value):\n",
    "    if min_value:\n",
    "        dff = df[df['y'] > min_value]\n",
    "    else:\n",
    "        dff = df\n",
    "    fig = px.scatter(dff, x='x', y='y')\n",
    "    fig.update_layout(template=\"plotly_white\")\n",
    "    return fig\n",
    "\n",
    "if __name__ == '__main__':\n",
    "    app.run_server(debug=True, port=8000)"
   ]
  },
  {
   "cell_type": "markdown",
   "id": "37353ef1",
   "metadata": {},
   "source": [
    "## Dashboard 4"
   ]
  },
  {
   "cell_type": "code",
   "execution_count": 6,
   "id": "04050856",
   "metadata": {},
   "outputs": [
    {
     "data": {
      "text/html": [
       "\n",
       "        <iframe\n",
       "            width=\"100%\"\n",
       "            height=\"650\"\n",
       "            src=\"http://127.0.0.1:8012/\"\n",
       "            frameborder=\"0\"\n",
       "            allowfullscreen\n",
       "            \n",
       "        ></iframe>\n",
       "        "
      ],
      "text/plain": [
       "<IPython.lib.display.IFrame at 0x2089890b7f0>"
      ]
     },
     "metadata": {},
     "output_type": "display_data"
    }
   ],
   "source": [
    "# new: more than one plot in a callback\n",
    "# new: one plot as an input for another plot\n",
    "# new: plotly go object\n",
    "\n",
    "app = Dash(__name__, external_stylesheets=[dbc.themes.BOOTSTRAP])\n",
    "\n",
    "df = pd.DataFrame({'y': np.random.normal(loc=0, scale=10, size=1000),\n",
    "                   'x': np.random.normal(loc=10, scale=2, size=1000)})\n",
    "\n",
    "# define cluster colors\n",
    "\n",
    "COLORS = {'0': \"red\", '1': \"blue\", '2': \"grey\"}\n",
    "\n",
    "X, y = make_blobs(n_samples=100, centers=3, n_features=2, random_state=0)\n",
    "\n",
    "cluster_df = pd.DataFrame(data=X, columns=[\"X\", \"Y\"])\n",
    "cluster_df['cluster'] = [str(i) for i in y]\n",
    "\n",
    "app.layout = html.Div([html.Div([html.H1(\"Dashboard 4\")], className=\"header\"), html.Div([dcc.Tabs(id=\"tabs\", children=[\n",
    "                 dcc.Tab(label='Tab One', id=\"tab_1_graphs\", children=[html.Div([\n",
    "                      dbc.Row([dbc.Col([dcc.Dropdown(options=['red','green','blue'], value='red', id='color', multi=False)], width=6),\n",
    "                               dbc.Col([dcc.Slider(min=math.floor(df['y'].min()), max=math.ceil(df['y'].max()), id=\"min_value\")], width=6)]),\n",
    "                      dbc.Row([dbc.Col([dcc.Graph(id=\"graph_1\")], width=6),\n",
    "                               dbc.Col([dcc.Graph(id=\"graph_2\")], width=6)])], className=\"tab_content\"),]),\n",
    "                 dcc.Tab(label='Tab Two', id=\"tab_2_graphs\", children=[html.Div([\n",
    "                      dbc.Row([dbc.Col([dcc.Graph(id=\"graph_3\")], width=8),\n",
    "                               dbc.Col([dcc.Graph(id=\"graph_4\")], width=4)])], className=\"tab_content\")]),])], className=\"content\")])\n",
    "\n",
    "@app.callback(Output(\"graph_1\", \"figure\"), Input(\"color\", \"value\"))\n",
    "\n",
    "def update_graph_1(dropdown_value_color):\n",
    "    fig = px.histogram(df, x=\"y\", color_discrete_sequence=[dropdown_value_color])\n",
    "    fig.update_layout(template=\"plotly_white\")\n",
    "    return fig\n",
    "\n",
    "@app.callback(Output(\"graph_2\", \"figure\"), Input(\"min_value\", \"value\"))\n",
    "\n",
    "def update_graph_2(min_value):\n",
    "    if min_value:\n",
    "        dff = df[df['y'] > min_value]\n",
    "    else:\n",
    "        dff = df\n",
    "    fig = px.scatter(dff, x='x', y='y')\n",
    "    fig.update_layout(template=\"plotly_white\")\n",
    "    return fig\n",
    "\n",
    "@app.callback(Output(\"graph_3\", \"figure\"), Output(\"graph_4\", \"figure\"), Input(\"graph_3\", \"relayoutData\"))\n",
    "\n",
    "def update_graph_3_and_4(selected_data):\n",
    "    if selected_data is None or (isinstance(selected_data, dict) and 'xaxis.range[0]' not in selected_data):\n",
    "        cluster_dff = cluster_df\n",
    "    else:\n",
    "        cluster_dff = cluster_df[(cluster_df['X'] >= selected_data.get('xaxis.range[0]')) &\n",
    "                                 (cluster_df['X'] <= selected_data.get('xaxis.range[1]')) &\n",
    "                                 (cluster_df['Y'] >= selected_data.get('yaxis.range[0]')) &\n",
    "                                 (cluster_df['Y'] <= selected_data.get('yaxis.range[1]'))]\n",
    "\n",
    "    fig3 = px.scatter(cluster_dff, x=\"X\", y=\"Y\", color=\"cluster\", color_discrete_map=COLORS, category_orders= {\"cluster\": [\"0\", \"1\", \"2\"]}, height=750)\n",
    "    fig3.update_layout(template=\"plotly_white\", coloraxis_showscale=False)\n",
    "    fig3.update_traces(marker=dict(size=8))\n",
    "\n",
    "    group_counts = cluster_dff[['cluster', 'X']].groupby('cluster').count()\n",
    "\n",
    "    fig4 = go.Figure(data=[go.Bar(x=group_counts.index, y=group_counts['X'], marker_color= [COLORS.get(i) for i in group_counts.index])])\n",
    "    fig4.update_layout(height=750, template=\"plotly_white\", title=\"<b>Counts per cluster</b>\", xaxis_title=\"cluster\", title_font_size= 25)\n",
    "    return fig3, fig4\n",
    "\n",
    "if __name__ == '__main__':\n",
    "    app.run_server(debug=True, port=8012)"
   ]
  },
  {
   "cell_type": "markdown",
   "id": "3b9ba50c",
   "metadata": {},
   "source": [
    "## Dashboard 5"
   ]
  },
  {
   "cell_type": "code",
   "execution_count": 7,
   "id": "0362d5c9",
   "metadata": {},
   "outputs": [
    {
     "ename": "ImportError",
     "evalue": "cannot import name 'generate_random_data' from 'helpers' (C:\\Users\\sha_r\\anaconda3\\lib\\site-packages\\helpers\\__init__.py)",
     "output_type": "error",
     "traceback": [
      "\u001b[1;31m---------------------------------------------------------------------------\u001b[0m",
      "\u001b[1;31mImportError\u001b[0m                               Traceback (most recent call last)",
      "\u001b[1;32m~\\AppData\\Local\\Temp/ipykernel_14880/327198313.py\u001b[0m in \u001b[0;36m<module>\u001b[1;34m\u001b[0m\n\u001b[0;32m      3\u001b[0m \u001b[1;32mimport\u001b[0m \u001b[0mplotly\u001b[0m\u001b[1;33m.\u001b[0m\u001b[0mgraph_objects\u001b[0m \u001b[1;32mas\u001b[0m \u001b[0mgo\u001b[0m\u001b[1;33m\u001b[0m\u001b[1;33m\u001b[0m\u001b[0m\n\u001b[0;32m      4\u001b[0m \u001b[1;32mimport\u001b[0m \u001b[0mmath\u001b[0m\u001b[1;33m\u001b[0m\u001b[1;33m\u001b[0m\u001b[0m\n\u001b[1;32m----> 5\u001b[1;33m \u001b[1;32mfrom\u001b[0m \u001b[0mhelpers\u001b[0m \u001b[1;32mimport\u001b[0m \u001b[0mgenerate_random_data\u001b[0m\u001b[1;33m,\u001b[0m \u001b[0mgenerate_random_cluster_data\u001b[0m\u001b[1;33m,\u001b[0m \u001b[0mupdate_selected_data\u001b[0m\u001b[1;33m\u001b[0m\u001b[1;33m\u001b[0m\u001b[0m\n\u001b[0m\u001b[0;32m      6\u001b[0m \u001b[1;32mimport\u001b[0m \u001b[0mdash_bootstrap_components\u001b[0m \u001b[1;32mas\u001b[0m \u001b[0mdbc\u001b[0m\u001b[1;33m\u001b[0m\u001b[1;33m\u001b[0m\u001b[0m\n\u001b[0;32m      7\u001b[0m \u001b[1;33m\u001b[0m\u001b[0m\n",
      "\u001b[1;31mImportError\u001b[0m: cannot import name 'generate_random_data' from 'helpers' (C:\\Users\\sha_r\\anaconda3\\lib\\site-packages\\helpers\\__init__.py)"
     ]
    }
   ],
   "source": [
    "from dash import Dash, dcc, html, Input, Output\n",
    "import plotly.express as px\n",
    "import plotly.graph_objects as go\n",
    "import math\n",
    "from helpers import generate_random_data, generate_random_cluster_data, update_selected_data\n",
    "import dash_bootstrap_components as dbc\n",
    "\n",
    "# New: same functionality like previous example \n",
    "# but this time without inline styles and without bootstrap\n",
    "# this time much more CSS in main_dashboard4.css\n",
    "# New: Exporting data generation in own function\n",
    "\n",
    "# define cluster colors\n",
    "\n",
    "COLORS = {'0': \"red\", '1': \"blue\", '2': \"grey\"}\n",
    "\n",
    "external_stylesheets = [\"'https://fonts.googleapis.com/css2?family=Lato:wght@400;700&display=swap'\"]\n",
    "\n",
    "# own .css from folder assets integrated\n",
    "\n",
    "app = Dash(__name__, external_stylesheets=external_stylesheets)\n",
    "\n",
    "df = generate_random_data(seed=8)\n",
    "cluster_df = generate_random_cluster_data()\n",
    "\n",
    "app.layout = html.Div([html.Header([html.H1(\"Dashboard 5\")], className=\"header--title\"), html.Div([dcc.Tabs(id=\"tabs\", children=[\n",
    "    dcc.Tab(label=\"Tab1\", children=[html.Div([html.Div([\n",
    "        dcc.Dropdown(options=['red', 'green', 'blue'], value='red', id='color', multi=False, className=\"graph_1--dropdown graph-control\"),\n",
    "        dcc.Graph(id=\"graph_1\", className=\"graph_1 graph\")], className=\"graph-component\"), html.Div([\n",
    "        dcc.Slider(min=math.floor(df['y'].min()), max=math.ceil(df['y'].max()), id=\"min_value\", className=\"graph_2--slider graph-control\"),\n",
    "        dcc.Graph(id=\"graph_2\", className=\"graph_2 graph\")], className=\"graph-component\")], className=\"tab1--main-container\")], className=\"tab1\"),\n",
    "    dcc.Tab(label=\"Tab2\", children=[html.Div([html.Div(\n",
    "        dcc.Graph(id=\"graph_3\"), className=\"graph_3\"), html.Div(\n",
    "        dcc.Graph(id=\"graph_4\"), className=\"graph_4\"), html.Div(html.Div([\n",
    "        dbc.Label(\"Number of bins:\", html_for=\"graph_5_nbins\"),\n",
    "        dcc.Dropdown(options=[str(i) for i in range(5, 100, 5)], value='40', id='graph_5_nbins', multi=False)]), className=\"graph_5--bins-dropdown\"), html.Div(html.Div([\n",
    "        dbc.Label(\"Color:\", html_for=\"graph_5_color\"), \n",
    "        dcc.Dropdown(options=[\"Viridis\", \"Magma\", \"Hot\", \"GnBu\", \"Greys\"], value='Hot', id='graph_5_color', multi=False)]), className=\"graph_5--color-dropdown\"),html.Div(html.Div([\n",
    "        dbc.Label(\"Separated for Cluster:\", html_for=\"graph_5_separated\"),\n",
    "        dcc.RadioItems(options=[\"Yes\", \"No\"], value='No', id='graph_5_separated', className=\"graph_5_separated\")]), className=\"graph_5--separation-radio\"), html.Div(\n",
    "        dcc.Graph(id=\"graph_5\"), className=\"graph_5\")], className=\"tab2--main-container\")], className=\"tab2\")])], className=\"tabs-content\")], className=\"container\")\n",
    "\n",
    "@app.callback(Output(\"graph_1\", \"figure\"), Input(\"color\", \"value\"))\n",
    "\n",
    "def update_graph_1(dropdown_value_color):\n",
    "    fig = px.histogram(df, x=\"y\", color_discrete_sequence=[dropdown_value_color])\n",
    "    fig.update_layout(template=\"plotly_white\")\n",
    "    return fig\n",
    "\n",
    "@app.callback(Output(\"graph_2\", \"figure\"), Input(\"min_value\", \"value\"))\n",
    "\n",
    "def update_graph_2(min_value):\n",
    "    if min_value:\n",
    "        dff = df[df['y'] > min_value]\n",
    "    else:\n",
    "        dff = df\n",
    "\n",
    "    fig = px.scatter(dff, x='x', y='y')\n",
    "    fig.update_layout(template=\"plotly_white\")\n",
    "    return fig\n",
    "\n",
    "@app.callback(Output(\"graph_3\", \"figure\"), Output(\"graph_4\", \"figure\"), Input(\"graph_3\", \"relayoutData\"))\n",
    "\n",
    "def update_graph_3_and_4(selected_data):\n",
    "    PLOT_HEIGHT = 400\n",
    "\n",
    "    cluster_dff = update_selected_data(cluster_df=cluster_df, selected_data=selected_data)\n",
    "\n",
    "    fig3 = px.scatter(cluster_dff, x=\"X\", y=\"Y\", color=\"cluster\", color_discrete_map=COLORS, category_orders={\"cluster\": [\"0\", \"1\", \"2\"]})\n",
    "\n",
    "    fig3.update_layout(height=PLOT_HEIGHT, template=\"plotly_white\", coloraxis_showscale=False)\n",
    "    fig3.update_traces(marker=dict(size=8))\n",
    "\n",
    "    group_counts = cluster_dff[['cluster', 'X']].groupby('cluster').count()\n",
    "\n",
    "    fig4 = go.Figure(data=[go.Bar(x=group_counts.index, y=group_counts['X'], marker_color=[COLORS.get(i) for i in group_counts.index])])\n",
    "\n",
    "    fig4.update_layout(height=PLOT_HEIGHT, template=\"plotly_white\", title=\"<b>Counts per cluster</b>\", xaxis_title=\"cluster\", title_font_size=25)\n",
    "\n",
    "    return fig3, fig4\n",
    "\n",
    "@app.callback(Output(\"graph_5\", \"figure\"), Input(\"graph_5_nbins\", \"value\"), Input(\"graph_5_color\", \"value\"), Input(\"graph_5_separated\", \"value\"), Input(\"graph_3\", \"relayoutData\"),)\n",
    "\n",
    "def update_graph_5(nbins, color, separated, selected_data):\n",
    "    cluster_dff = update_selected_data(cluster_df=cluster_df, selected_data=selected_data)\n",
    "\n",
    "    fig = px.density_heatmap(cluster_dff, x=\"X\", y=\"Y\", nbinsx=int(nbins), nbinsy=int(nbins), color_continuous_scale=color, facet_col=None if separated == \"No\" else \"cluster\",\n",
    "        category_orders={\"cluster\": [\"0\", \"1\", \"2\"]})\n",
    "    fig.update_layout(template=\"plotly_white\")\n",
    "    return fig\n",
    "\n",
    "if __name__ == '__main__':\n",
    "    app.run_server(debug=True, port=8014)"
   ]
  },
  {
   "cell_type": "code",
   "execution_count": 10,
   "id": "3fb923e3",
   "metadata": {},
   "outputs": [
    {
     "ename": "SyntaxError",
     "evalue": "invalid syntax (Temp/ipykernel_14728/2747378916.py, line 46)",
     "output_type": "error",
     "traceback": [
      "\u001b[1;36m  File \u001b[1;32m\"C:\\Users\\sha_r\\AppData\\Local\\Temp/ipykernel_14728/2747378916.py\"\u001b[1;36m, line \u001b[1;32m46\u001b[0m\n\u001b[1;33m    if selected_data is None or\u001b[0m\n\u001b[1;37m                                ^\u001b[0m\n\u001b[1;31mSyntaxError\u001b[0m\u001b[1;31m:\u001b[0m invalid syntax\n"
     ]
    }
   ],
   "source": [
    "from sklearn.datasets import make_blobs\n",
    "\n",
    "# New: Density heatmap (2 columns) as third plot on tab 2\n",
    "# with color and resolution options\n",
    "# New: Everything with inline style and bootstrap (no CSS)\n",
    "\n",
    "app = Dash(__name__, external_stylesheets=[dbc.themes.BOOTSTRAP])\n",
    "\n",
    "# generate random normal distributed data for x and y\n",
    "# and store it in a Pandas DataFrame (for plot 1,2, and 5)\n",
    "\n",
    "np.random.seed(seed=8)\n",
    "\n",
    "df = pd.DataFrame({'y': np.random.normal(loc=0, scale=10, size=1000),\n",
    "                   'x': np.random.normal(loc=10, scale=2, size=1000)})\n",
    "\n",
    "# define cluster colors\n",
    "\n",
    "COLORS = {'0': \"red\", '1': \"blue\", '2': \"grey\"}\n",
    "\n",
    "# generic cluster data (for plot 3 and 4)\n",
    "\n",
    "X, y = make_blobs(n_samples=7500, centers=3, n_features=2, random_state=0, cluster_std=0.75)\n",
    "\n",
    "cluster_df = pd.DataFrame(data=X, columns=[\"X\", \"Y\"])\n",
    "cluster_df['cluster'] = [str(i) for i in y]\n",
    "\n",
    "app.layout = html.Div([html.Div([html.H1(\"Dashboard 6\")], style={'margin': '10px 25px 25px 25px'}), html.Div([dcc.Tabs(id=\"tabs\", children=[\n",
    "    dcc.Tab(label='Tab One', children=[html.Div([\n",
    "        dbc.Row([dbc.Col([dcc.Dropdown(options=['red', 'green', 'blue'], value='red', id='color', multi=False)], width=6),\n",
    "                 dbc.Col([dcc.Slider(min=math.floor(df['y'].min()), max=math.ceil(df['y'].max()), id=\"min_value\")], width=6)]),\n",
    "        dbc.Row([dbc.Col([dcc.Graph(id=\"graph_1\")],width=6),\n",
    "                 dbc.Col([dcc.Graph(id=\"graph_2\")],width=6)])], style={\"margin\": \"100px 25px 25px 25px\"}),]),\n",
    "    dcc.Tab(label='Tab Two', id=\"tab_2_graphs\", children=[html.Div([\n",
    "        dbc.Row([dbc.Col([dcc.Graph(id=\"graph_3\")], width=8),\n",
    "                 dbc.Col([dcc.Graph(id=\"graph_4\")], width=4)]),\n",
    "        dbc.Row([dbc.Col(html.Div([dbc.Label(\"Number of bins:\", html_for=\"graph_5_nbins\"),\n",
    "                                   dcc.Dropdown(options= [str(i) for i in range(5, 100, 5)], value='40', id='graph_5_nbins', multi=False)]),width={\"size\": 3},),\n",
    "                 dbc.Col(html.Div([dbc.Label(\"Color:\", html_for=\"graph_5_color\"),\n",
    "                                   dcc.Dropdown(options=[\"Viridis\", \"Magma\", \"Hot\", \"GnBu\", \"Greys\"], value='Viridis', id='graph_5_color', multi=False)]),width={\"size\": 3,\"offset\": 1},),\n",
    "                 dbc.Col(html.Div([dbc.Label(\"Separated for Cluster:\", html_for=\"graph_5_separated\"),\n",
    "                                   dcc.RadioItems(options=[\"Yes\",\"No\"], value='No', id='graph_5_separated')]),width={\"size\": 3,\"offset\": 1},)]),\n",
    "        dbc.Row([dbc.Col([dcc.Graph(id=\"graph_5\")], width=12)])], style={\"margin\": \"10px 25px 25px 25px\"})]),])], style={\"margin\": \"10px 25px 25px 25px\"})])\n",
    "\n",
    "def update_selected_data(selected_data):\n",
    "    if selected_data is None or \n",
    "      (isinstance(selected_data, dict) and \n",
    "       'xaxis.range[0]' not in selected_data):\n",
    "            cluster_dff = cluster_df\n",
    "    else:\n",
    "        cluster_dff = \n",
    "          cluster_df[\n",
    "          (cluster_df['X'] >= \n",
    "              selected_data.get('xaxis.range[0]')) &\n",
    "          (cluster_df['X'] <=\n",
    "              selected_data.get('xaxis.range[1]')) &\n",
    "          (cluster_df['Y'] >=\n",
    "              selected_data.get('yaxis.range[0]')) &\n",
    "          (cluster_df['Y'] <=\n",
    "              selected_data.get('yaxis.range[1]'))]\n",
    "    return cluster_dff\n",
    "\n",
    "@app.callback(Output(\"graph_1\", \"figure\"), Input(\"color\", \"value\"))\n",
    "\n",
    "def update_graph_1(dropdown_value_color):\n",
    "    fig = px.histogram(df, x=\"y\", color_discrete_sequence=[dropdown_value_color])\n",
    "    fig.update_layout(template=\"plotly_white\")\n",
    "    return fig\n",
    "\n",
    "@app.callback(Output(\"graph_2\", \"figure\"), Input(\"min_value\", \"value\"))\n",
    "\n",
    "def update_graph_2(min_value):\n",
    "    if min_value:\n",
    "        dff = df[df['y'] > min_value]\n",
    "    else:\n",
    "        dff = df\n",
    "\n",
    "    fig = px.scatter(dff, x='x', y='y')\n",
    "    fig.update_layout(template=\"plotly_white\")\n",
    "    return fig\n",
    "\n",
    "@app.callback(Output(\"graph_3\", \"figure\"), Output(\"graph_4\", \"figure\"), Input(\"graph_3\", \"relayoutData\"))\n",
    "\n",
    "def update_graph_3_and_4(selected_data):\n",
    "\n",
    "    PLOT_HEIGHT = 400\n",
    "\n",
    "    cluster_dff = update_selected_data(selected_data=selected_data)\n",
    "\n",
    "    fig3 = px.scatter(cluster_dff, x=\"X\", y=\"Y\", color=\"cluster\", color_discrete_map=COLORS, category_orders={\"cluster\": [\"0\", \"1\", \"2\"]})\n",
    "\n",
    "    fig3.update_layout(height=PLOT_HEIGHT, template=\"plotly_white\", coloraxis_showscale=False)\n",
    "    fig3.update_traces(marker=dict(size=8))\n",
    "\n",
    "    group_counts = cluster_dff[['cluster', 'X']].groupby('cluster').count()\n",
    "\n",
    "    fig4 = go.Figure(data=[go.Bar(x=group_counts.index, y=group_counts['X'], marker_color=[COLORS.get(i) for i in group_counts.index])])\n",
    "\n",
    "    fig4.update_layout(height=PLOT_HEIGHT, template=\"plotly_white\", title=\"<b>Counts per cluster</b>\", xaxis_title=\"cluster\", title_font_size=25)\n",
    "\n",
    "    return fig3, fig4\n",
    "\n",
    "@app.callback(Output(\"graph_5\", \"figure\"), Input(\"graph_5_nbins\", \"value\"), Input(\"graph_5_color\", \"value\"), Input(\"graph_5_separated\", \"value\"), Input(\"graph_3\", \"relayoutData\"),)\n",
    "\n",
    "def update_graph_5(nbins, color, separated, selected_data):\n",
    "    cluster_dff = update_selected_data(selected_data=selected_data)\n",
    "\n",
    "    fig = px.density_heatmap(cluster_dff, x=\"X\", y=\"Y\", nbinsx=int(nbins), nbinsy=int(nbins), color_continuous_scale=color, facet_col=None if separated == \"No\" else \"cluster\",\n",
    "        category_orders={\"cluster\": [\"0\", \"1\", \"2\"]})\n",
    "    fig.update_layout(template=\"plotly_white\")\n",
    "    return fig\n",
    "\n",
    "if __name__ == '__main__':\n",
    "    app.run_server(debug=True, port=8014)"
   ]
  },
  {
   "cell_type": "code",
   "execution_count": 9,
   "id": "a2c0bcc1",
   "metadata": {},
   "outputs": [
    {
     "name": "stdout",
     "output_type": "stream",
     "text": [
      "Hallo Tamara & Serge. Sieht ihr mich?\n"
     ]
    }
   ],
   "source": [
    "print(\"Hallo Tamara & Serge. Sieht ihr mich?\")"
   ]
  },
  {
   "cell_type": "code",
   "execution_count": 10,
   "id": "b8e1b203",
   "metadata": {},
   "outputs": [
    {
     "name": "stdout",
     "output_type": "stream",
     "text": [
      "Test 2\n"
     ]
    }
   ],
   "source": [
    "print(\"Test 2\")"
   ]
  },
  {
   "cell_type": "code",
   "execution_count": 12,
   "id": "871856ab",
   "metadata": {},
   "outputs": [
    {
     "name": "stdout",
     "output_type": "stream",
     "text": [
      "Test Sharon\n"
     ]
    }
   ],
   "source": [
    "print(\"Test Sharon\")"
   ]
  }
 ],
 "metadata": {
  "kernelspec": {
   "display_name": "Python 3 (ipykernel)",
   "language": "python",
   "name": "python3"
  },
  "language_info": {
   "codemirror_mode": {
    "name": "ipython",
    "version": 3
   },
   "file_extension": ".py",
   "mimetype": "text/x-python",
   "name": "python",
   "nbconvert_exporter": "python",
   "pygments_lexer": "ipython3",
   "version": "3.9.7"
  }
 },
 "nbformat": 4,
 "nbformat_minor": 5
}
